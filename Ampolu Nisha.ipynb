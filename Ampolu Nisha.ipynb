{
 "cells": [
  {
   "cell_type": "code",
   "execution_count": 1,
   "metadata": {},
   "outputs": [],
   "source": [
    "import pandas as pd\n",
    "import numpy as np"
   ]
  },
  {
   "cell_type": "code",
   "execution_count": 2,
   "metadata": {},
   "outputs": [
    {
     "name": "stderr",
     "output_type": "stream",
     "text": [
      "C:\\Users\\Ampolu Nisha\\anaconda3\\lib\\site-packages\\IPython\\core\\interactiveshell.py:3146: DtypeWarning: Columns (1,5,6) have mixed types.Specify dtype option on import or set low_memory=False.\n",
      "  has_raised = await self.run_ast_nodes(code_ast.body, cell_name,\n"
     ]
    },
    {
     "data": {
      "text/html": [
       "<div>\n",
       "<style scoped>\n",
       "    .dataframe tbody tr th:only-of-type {\n",
       "        vertical-align: middle;\n",
       "    }\n",
       "\n",
       "    .dataframe tbody tr th {\n",
       "        vertical-align: top;\n",
       "    }\n",
       "\n",
       "    .dataframe thead th {\n",
       "        text-align: right;\n",
       "    }\n",
       "</style>\n",
       "<table border=\"1\" class=\"dataframe\">\n",
       "  <thead>\n",
       "    <tr style=\"text-align: right;\">\n",
       "      <th></th>\n",
       "      <th>Unnamed: 0</th>\n",
       "      <th>Unnamed: 0.1</th>\n",
       "      <th>symbol</th>\n",
       "      <th>message</th>\n",
       "      <th>datetime</th>\n",
       "      <th>user</th>\n",
       "      <th>message_id</th>\n",
       "      <th>Date</th>\n",
       "      <th>Time</th>\n",
       "      <th>Day_of_week</th>\n",
       "      <th>polarity</th>\n",
       "    </tr>\n",
       "  </thead>\n",
       "  <tbody>\n",
       "    <tr>\n",
       "      <th>0</th>\n",
       "      <td>378949</td>\n",
       "      <td>378949</td>\n",
       "      <td>AAPL</td>\n",
       "      <td>aapl profit margin 22 41 amongst best returns ...</td>\n",
       "      <td>2018-11-21 03:15:56</td>\n",
       "      <td>47688</td>\n",
       "      <td>145861545</td>\n",
       "      <td>2018-11-21</td>\n",
       "      <td>03:15:56</td>\n",
       "      <td>Wednesday</td>\n",
       "      <td>0.0</td>\n",
       "    </tr>\n",
       "    <tr>\n",
       "      <th>1</th>\n",
       "      <td>89431</td>\n",
       "      <td>89431</td>\n",
       "      <td>AAPL</td>\n",
       "      <td>aapl us financial system breaking spy</td>\n",
       "      <td>2020-03-18 18:20:59</td>\n",
       "      <td>1223051</td>\n",
       "      <td>201219621</td>\n",
       "      <td>2020-03-18</td>\n",
       "      <td>18:20:59</td>\n",
       "      <td>Wednesday</td>\n",
       "      <td>1.0</td>\n",
       "    </tr>\n",
       "    <tr>\n",
       "      <th>2</th>\n",
       "      <td>54701</td>\n",
       "      <td>54701</td>\n",
       "      <td>AAPL</td>\n",
       "      <td>hour moves 39 mean jackshit liquidity hence st...</td>\n",
       "      <td>2020-04-30 22:26:07</td>\n",
       "      <td>236839</td>\n",
       "      <td>209745704</td>\n",
       "      <td>2020-04-30</td>\n",
       "      <td>22:26:07</td>\n",
       "      <td>Thursday</td>\n",
       "      <td>1.0</td>\n",
       "    </tr>\n",
       "    <tr>\n",
       "      <th>3</th>\n",
       "      <td>591599</td>\n",
       "      <td>591599</td>\n",
       "      <td>AAPL</td>\n",
       "      <td>spy aapl esactly</td>\n",
       "      <td>2017-07-21 15:13:43</td>\n",
       "      <td>298334</td>\n",
       "      <td>89489798</td>\n",
       "      <td>2017-07-21</td>\n",
       "      <td>15:13:43</td>\n",
       "      <td>Friday</td>\n",
       "      <td>1.0</td>\n",
       "    </tr>\n",
       "    <tr>\n",
       "      <th>4</th>\n",
       "      <td>1096480</td>\n",
       "      <td>1096480</td>\n",
       "      <td>AAPL</td>\n",
       "      <td>aapl nothing till 9 55am numbers</td>\n",
       "      <td>2013-06-14 13:09:32</td>\n",
       "      <td>225936</td>\n",
       "      <td>14102695</td>\n",
       "      <td>2013-06-14</td>\n",
       "      <td>13:09:32</td>\n",
       "      <td>Friday</td>\n",
       "      <td>0.0</td>\n",
       "    </tr>\n",
       "  </tbody>\n",
       "</table>\n",
       "</div>"
      ],
      "text/plain": [
       "   Unnamed: 0 Unnamed: 0.1 symbol  \\\n",
       "0      378949       378949   AAPL   \n",
       "1       89431        89431   AAPL   \n",
       "2       54701        54701   AAPL   \n",
       "3      591599       591599   AAPL   \n",
       "4     1096480      1096480   AAPL   \n",
       "\n",
       "                                             message             datetime  \\\n",
       "0  aapl profit margin 22 41 amongst best returns ...  2018-11-21 03:15:56   \n",
       "1              aapl us financial system breaking spy  2020-03-18 18:20:59   \n",
       "2  hour moves 39 mean jackshit liquidity hence st...  2020-04-30 22:26:07   \n",
       "3                                   spy aapl esactly  2017-07-21 15:13:43   \n",
       "4                   aapl nothing till 9 55am numbers  2013-06-14 13:09:32   \n",
       "\n",
       "      user message_id        Date      Time Day_of_week  polarity  \n",
       "0    47688  145861545  2018-11-21  03:15:56   Wednesday       0.0  \n",
       "1  1223051  201219621  2020-03-18  18:20:59   Wednesday       1.0  \n",
       "2   236839  209745704  2020-04-30  22:26:07    Thursday       1.0  \n",
       "3   298334   89489798  2017-07-21  15:13:43      Friday       1.0  \n",
       "4   225936   14102695  2013-06-14  13:09:32      Friday       0.0  "
      ]
     },
     "execution_count": 2,
     "metadata": {},
     "output_type": "execute_result"
    }
   ],
   "source": [
    "dataframe = pd.read_csv('F:\\Technocolabs Internship\\Predicting-Stock-Price-Movement-Using-Crowd-Data\\DataSet\\Combined_all_binary_same.csv',sep = '\\t')\n",
    "dataframe.head()"
   ]
  },
  {
   "cell_type": "code",
   "execution_count": 3,
   "metadata": {},
   "outputs": [
    {
     "name": "stdout",
     "output_type": "stream",
     "text": [
      "<class 'pandas.core.frame.DataFrame'>\n",
      "RangeIndex: 6451067 entries, 0 to 6451066\n",
      "Data columns (total 11 columns):\n",
      " #   Column        Dtype  \n",
      "---  ------        -----  \n",
      " 0   Unnamed: 0    int64  \n",
      " 1   Unnamed: 0.1  object \n",
      " 2   symbol        object \n",
      " 3   message       object \n",
      " 4   datetime      object \n",
      " 5   user          object \n",
      " 6   message_id    object \n",
      " 7   Date          object \n",
      " 8   Time          object \n",
      " 9   Day_of_week   object \n",
      " 10  polarity      float64\n",
      "dtypes: float64(1), int64(1), object(9)\n",
      "memory usage: 541.4+ MB\n"
     ]
    }
   ],
   "source": [
    "dataframe.info()"
   ]
  },
  {
   "cell_type": "code",
   "execution_count": 4,
   "metadata": {},
   "outputs": [
    {
     "data": {
      "text/html": [
       "<div>\n",
       "<style scoped>\n",
       "    .dataframe tbody tr th:only-of-type {\n",
       "        vertical-align: middle;\n",
       "    }\n",
       "\n",
       "    .dataframe tbody tr th {\n",
       "        vertical-align: top;\n",
       "    }\n",
       "\n",
       "    .dataframe thead th {\n",
       "        text-align: right;\n",
       "    }\n",
       "</style>\n",
       "<table border=\"1\" class=\"dataframe\">\n",
       "  <thead>\n",
       "    <tr style=\"text-align: right;\">\n",
       "      <th></th>\n",
       "      <th>Unnamed: 0</th>\n",
       "      <th>polarity</th>\n",
       "    </tr>\n",
       "  </thead>\n",
       "  <tbody>\n",
       "    <tr>\n",
       "      <th>count</th>\n",
       "      <td>6.451067e+06</td>\n",
       "      <td>6.451061e+06</td>\n",
       "    </tr>\n",
       "    <tr>\n",
       "      <th>mean</th>\n",
       "      <td>4.645049e+05</td>\n",
       "      <td>5.124250e-01</td>\n",
       "    </tr>\n",
       "    <tr>\n",
       "      <th>std</th>\n",
       "      <td>4.632395e+05</td>\n",
       "      <td>4.998456e-01</td>\n",
       "    </tr>\n",
       "    <tr>\n",
       "      <th>min</th>\n",
       "      <td>0.000000e+00</td>\n",
       "      <td>0.000000e+00</td>\n",
       "    </tr>\n",
       "    <tr>\n",
       "      <th>25%</th>\n",
       "      <td>9.187800e+04</td>\n",
       "      <td>0.000000e+00</td>\n",
       "    </tr>\n",
       "    <tr>\n",
       "      <th>50%</th>\n",
       "      <td>3.026790e+05</td>\n",
       "      <td>1.000000e+00</td>\n",
       "    </tr>\n",
       "    <tr>\n",
       "      <th>75%</th>\n",
       "      <td>7.087310e+05</td>\n",
       "      <td>1.000000e+00</td>\n",
       "    </tr>\n",
       "    <tr>\n",
       "      <th>max</th>\n",
       "      <td>1.799373e+06</td>\n",
       "      <td>1.000000e+00</td>\n",
       "    </tr>\n",
       "  </tbody>\n",
       "</table>\n",
       "</div>"
      ],
      "text/plain": [
       "         Unnamed: 0      polarity\n",
       "count  6.451067e+06  6.451061e+06\n",
       "mean   4.645049e+05  5.124250e-01\n",
       "std    4.632395e+05  4.998456e-01\n",
       "min    0.000000e+00  0.000000e+00\n",
       "25%    9.187800e+04  0.000000e+00\n",
       "50%    3.026790e+05  1.000000e+00\n",
       "75%    7.087310e+05  1.000000e+00\n",
       "max    1.799373e+06  1.000000e+00"
      ]
     },
     "execution_count": 4,
     "metadata": {},
     "output_type": "execute_result"
    }
   ],
   "source": [
    "dataframe.describe()"
   ]
  },
  {
   "cell_type": "code",
   "execution_count": 5,
   "metadata": {},
   "outputs": [
    {
     "data": {
      "text/plain": [
       "Unnamed: 0        int64\n",
       "Unnamed: 0.1     object\n",
       "symbol           object\n",
       "message          object\n",
       "datetime         object\n",
       "user             object\n",
       "message_id       object\n",
       "Date             object\n",
       "Time             object\n",
       "Day_of_week      object\n",
       "polarity        float64\n",
       "dtype: object"
      ]
     },
     "execution_count": 5,
     "metadata": {},
     "output_type": "execute_result"
    }
   ],
   "source": [
    "dataframe.dtypes"
   ]
  },
  {
   "cell_type": "code",
   "execution_count": 6,
   "metadata": {},
   "outputs": [
    {
     "data": {
      "text/plain": [
       "Unnamed: 0         0\n",
       "Unnamed: 0.1       0\n",
       "symbol             0\n",
       "message         1815\n",
       "datetime           3\n",
       "user               3\n",
       "message_id         3\n",
       "Date               3\n",
       "Time               3\n",
       "Day_of_week        6\n",
       "polarity           6\n",
       "dtype: int64"
      ]
     },
     "execution_count": 6,
     "metadata": {},
     "output_type": "execute_result"
    }
   ],
   "source": [
    "dataframe.isnull().sum()"
   ]
  },
  {
   "cell_type": "code",
   "execution_count": 7,
   "metadata": {},
   "outputs": [
    {
     "data": {
      "text/plain": [
       "Unnamed: 0      0\n",
       "Unnamed: 0.1    0\n",
       "symbol          0\n",
       "message         0\n",
       "datetime        0\n",
       "user            0\n",
       "message_id      0\n",
       "Date            0\n",
       "Time            0\n",
       "Day_of_week     0\n",
       "polarity        0\n",
       "dtype: int64"
      ]
     },
     "execution_count": 7,
     "metadata": {},
     "output_type": "execute_result"
    }
   ],
   "source": [
    "dataframe.dropna(subset=['message', 'datetime', 'Day_of_week'], inplace=True)\n",
    "dataframe.drop(['Unnamed: 0', 'Unnamed: 0.1'], axis=1)\n",
    "dataframe.isnull().sum()"
   ]
  },
  {
   "cell_type": "code",
   "execution_count": 8,
   "metadata": {},
   "outputs": [
    {
     "name": "stdout",
     "output_type": "stream",
     "text": [
      "Unnamed: 0 1798659\n",
      "Unnamed: 0.1 1959539\n",
      "symbol 25\n",
      "message 5026796\n",
      "datetime 5304109\n",
      "user 159918\n",
      "message_id 5615459\n",
      "Date 3975\n",
      "Time 86398\n",
      "Day_of_week 7\n",
      "polarity 2\n"
     ]
    }
   ],
   "source": [
    "for i in dataframe.columns:\n",
    "    print(i,len(dataframe[i].unique()))"
   ]
  },
  {
   "cell_type": "code",
   "execution_count": 9,
   "metadata": {},
   "outputs": [],
   "source": [
    "dataframe['Date']=pd.to_datetime(dataframe['Date'])"
   ]
  },
  {
   "cell_type": "code",
   "execution_count": 10,
   "metadata": {},
   "outputs": [
    {
     "data": {
      "text/plain": [
       "Unnamed: 0               int64\n",
       "Unnamed: 0.1            object\n",
       "symbol                  object\n",
       "message                 object\n",
       "datetime                object\n",
       "user                    object\n",
       "message_id              object\n",
       "Date            datetime64[ns]\n",
       "Time                    object\n",
       "Day_of_week             object\n",
       "polarity               float64\n",
       "dtype: object"
      ]
     },
     "execution_count": 10,
     "metadata": {},
     "output_type": "execute_result"
    }
   ],
   "source": [
    "dataframe.dtypes"
   ]
  },
  {
   "cell_type": "code",
   "execution_count": 11,
   "metadata": {},
   "outputs": [],
   "source": [
    "import matplotlib.pyplot as plt"
   ]
  },
  {
   "cell_type": "code",
   "execution_count": 12,
   "metadata": {},
   "outputs": [
    {
     "data": {
      "text/plain": [
       "0    aapl profit margin 22 41 amongst best returns ...\n",
       "1                aapl us financial system breaking spy\n",
       "2    hour moves 39 mean jackshit liquidity hence st...\n",
       "3                                     spy aapl esactly\n",
       "4                     aapl nothing till 9 55am numbers\n",
       "Name: message, dtype: object"
      ]
     },
     "execution_count": 12,
     "metadata": {},
     "output_type": "execute_result"
    }
   ],
   "source": [
    "tech_list=dataframe['message'].unique()\n",
    "dataframe['message'].head()"
   ]
  },
  {
   "cell_type": "code",
   "execution_count": 13,
   "metadata": {},
   "outputs": [
    {
     "data": {
      "image/png": "[encoded data removed]",
      "text/plain": [
       "<Figure size 1440x864 with 1 Axes>"
      ]
     },
     "metadata": {
      "needs_background": "light"
     },
     "output_type": "display_data"
    }
   ],
   "source": [
    "plt.figure(figsize=(20,12))\n",
    "dataframe['symbol'].value_counts()\n",
    "plt.plot(dataframe['symbol'].value_counts())\n",
    "plt.xticks(rotation='vertical')\n",
    "plt.show()"
   ]
  },
  {
   "cell_type": "code",
   "execution_count": 14,
   "metadata": {},
   "outputs": [
    {
     "name": "stdout",
     "output_type": "stream",
     "text": [
      "Requirement already satisfied: plotly in c:\\users\\ampolu nisha\\anaconda3\\lib\\site-packages (5.3.1)\n",
      "Requirement already satisfied: tenacity>=6.2.0 in c:\\users\\ampolu nisha\\anaconda3\\lib\\site-packages (from plotly) (8.0.1)\n",
      "Requirement already satisfied: six in c:\\users\\ampolu nisha\\anaconda3\\lib\\site-packages (from plotly) (1.15.0)\n"
     ]
    }
   ],
   "source": [
    "!pip install plotly"
   ]
  },
  {
   "cell_type": "code",
   "execution_count": 15,
   "metadata": {},
   "outputs": [
    {
     "name": "stdout",
     "output_type": "stream",
     "text": [
      "Requirement already satisfied: tweet-preprocessor in c:\\users\\ampolu nisha\\anaconda3\\lib\\site-packages (0.6.0)\n"
     ]
    }
   ],
   "source": [
    "!pip install tweet-preprocessor"
   ]
  },
  {
   "cell_type": "code",
   "execution_count": 16,
   "metadata": {},
   "outputs": [],
   "source": [
    "import seaborn as sns\n",
    "import plotly as py"
   ]
  },
  {
   "cell_type": "code",
   "execution_count": 17,
   "metadata": {},
   "outputs": [
    {
     "name": "stderr",
     "output_type": "stream",
     "text": [
      "[nltk_data] Downloading package wordnet to C:\\Users\\Ampolu\n",
      "[nltk_data]     Nisha\\AppData\\Roaming\\nltk_data...\n",
      "[nltk_data]   Package wordnet is already up-to-date!\n",
      "[nltk_data] Downloading package stopwords to C:\\Users\\Ampolu\n",
      "[nltk_data]     Nisha\\AppData\\Roaming\\nltk_data...\n",
      "[nltk_data]   Package stopwords is already up-to-date!\n"
     ]
    }
   ],
   "source": [
    "from sklearn.feature_extraction.text import CountVectorizer\n",
    "import preprocessor as p\n",
    "import re\n",
    "re.compile('<title>(.*)</title>')\n",
    "\n",
    "import nltk\n",
    "from nltk import word_tokenize, FreqDist\n",
    "from nltk.corpus import stopwords\n",
    "from nltk.stem import WordNetLemmatizer\n",
    "nltk.download\n",
    "nltk.download('wordnet')\n",
    "nltk.download('stopwords')\n",
    "from nltk.tokenize import TweetTokenizer"
   ]
  },
  {
   "cell_type": "code",
   "execution_count": 18,
   "metadata": {},
   "outputs": [
    {
     "data": {
      "text/plain": [
       "array(['aapl', 'adbe', 'amzn', 'bac', 'brk.a', 'brk.b', 'dia', 'dis',\n",
       "       'fb', 'goog', 'googl', 'hd', 'intc', 'jnj', 'nflx', 'pg', 'qqq',\n",
       "       'spy', 't', 'tsla', 'unh', 'v', 'vix', 'vz', 'wmt'], dtype=object)"
      ]
     },
     "execution_count": 18,
     "metadata": {},
     "output_type": "execute_result"
    }
   ],
   "source": [
    "tech_list = np.unique(dataframe['symbol'].map(lambda x: x.lower()))\n",
    "tech_list\n"
   ]
  },
  {
   "cell_type": "code",
   "execution_count": 19,
   "metadata": {},
   "outputs": [],
   "source": [
    "dataframe['message'] = dataframe['message'].str.lower()"
   ]
  },
  {
   "cell_type": "code",
   "execution_count": 20,
   "metadata": {},
   "outputs": [],
   "source": [
    "# Removing Digits\n",
    "dataframe['message'] = dataframe['message'].astype(str).str.replace('\\d+', '')\n",
    "\n",
    "# Removing Company names\n",
    "remove_words = ['aapl', 'adbe', 'amzn', 'bac', 'brk.a', 'brk.b', 'dia', 'dis','fb', 'goog', 'googl', 'hd', 'intc', 'jnj', 'nflx', 'pg', 'qqq','spy', 't', 'tsla', 'unh', 'v', 'vix', 'vz', 'wmt']\n",
    "pat = r'\\b(?:{})\\b'.format('|'.join(remove_words))\n",
    "dataframe['message'] = dataframe['message'].str.replace(pat, '')\n",
    "\n",
    "# Removing URLs\n",
    "dataframe['message'] = dataframe['message'].apply(lambda x: re.sub(r'https?:\\/\\/\\S+', '', x))\n",
    "dataframe['message'] = dataframe['message'].apply(lambda x: re.sub(r\"www\\.[a-z]?\\.?(com)+|[a-z]+\\.(com)\", '', x))\n",
    "\n",
    "# Removing Non letter characters\n",
    "dataframe['message'] = dataframe['message'].apply(lambda x: re.sub(r\"[^a-z\\s\\(\\-:\\)\\\\\\/\\];='#]\", '', x))\n",
    "\n",
    "# Removing mentions and hashtags\n",
    "dataframe['message'] = dataframe['message'].apply(lambda x: re.sub(r'@[A-Za-z0-9_]+','', x))\n",
    "dataframe['message'] = dataframe['message'].apply(lambda x: re.sub(r'#[A-Za-z0-9_]+','', x))"
   ]
  },
  {
   "cell_type": "code",
   "execution_count": null,
   "metadata": {},
   "outputs": [],
   "source": [
    "# Tokenization\n",
    "tknzr = TweetTokenizer()\n",
    "dataframe['tokens'] = dataframe['message'].apply(tknzr.tokenize)\n",
    "dataframe[['message', 'tokens']].head()"
   ]
  },
  {
   "cell_type": "markdown",
   "metadata": {},
   "source": [
    "# Extracting Information from Dow Jones Data"
   ]
  },
  {
   "cell_type": "code",
   "execution_count": null,
   "metadata": {},
   "outputs": [],
   "source": [
    "import pandas as pd\n",
    "import numpy as np\n",
    "import matplotlib.pyplot as plt"
   ]
  },
  {
   "cell_type": "code",
   "execution_count": null,
   "metadata": {},
   "outputs": [],
   "source": [
    "df = pd.read_csv('F:\\Technocolabs Internship\\Predicting-Stock-Price-Movement-Using-Crowd-Data\\DataSet\\Dow Jones Industrial Average Data.csv')\n",
    "df.head()"
   ]
  },
  {
   "cell_type": "code",
   "execution_count": null,
   "metadata": {},
   "outputs": [],
   "source": [
    "df.shape"
   ]
  },
  {
   "cell_type": "code",
   "execution_count": null,
   "metadata": {},
   "outputs": [],
   "source": [
    "df.dtypes"
   ]
  },
  {
   "cell_type": "code",
   "execution_count": null,
   "metadata": {},
   "outputs": [],
   "source": [
    "df['Change %'] = df['Change %'].map(lambda x: x.rstrip('%'))\n",
    "df['Vol.'] = df['Vol.'].map(lambda x: x.rstrip('M'))\n",
    "df['Price'] = df['Price'].str.replace(r',', '')\n",
    "df.info()"
   ]
  },
  {
   "cell_type": "code",
   "execution_count": null,
   "metadata": {},
   "outputs": [],
   "source": [
    "df['Date']=pd.to_datetime(df['Date'])\n",
    "df['Change %']=pd.to_numeric(df['Change %'])\n",
    "df['Price']=pd.to_numeric(df['Price'])\n",
    "df.dtypes"
   ]
  },
  {
   "cell_type": "code",
   "execution_count": null,
   "metadata": {},
   "outputs": [],
   "source": [
    "df.describe()"
   ]
  },
  {
   "cell_type": "code",
   "execution_count": null,
   "metadata": {},
   "outputs": [],
   "source": [
    "np.random.seed(0)\n",
    "\n",
    "# Analyzing the total volume of stock being traded each day\n",
    "plt.plot(df['Date'], df['Change %'],color = 'green')\n",
    "plt.title('DAILY CHANGE')\n",
    "plt.show()\n",
    "\n",
    "# Analyzing the daily price change\n",
    "plt.plot(df['Date'], df['Price'],color = 'blue')\n",
    "plt.title('DAILY PRICE')\n",
    "plt.show()\n",
    "\n",
    "plt.hist(df['Change %'],bins = 100)\n",
    "plt.title('CHANGE % DISTRIBUTION')\n",
    "plt.show()\n",
    "\n",
    "plt.hist(df['Price'],bins = 100)\n",
    "plt.title('PRICE DISTRIBUTION')\n",
    "plt.show()"
   ]
  },
  {
   "cell_type": "code",
   "execution_count": null,
   "metadata": {},
   "outputs": [],
   "source": []
  }
 ],
 "metadata": {
  "kernelspec": {
   "display_name": "Python 3",
   "language": "python",
   "name": "python3"
  },
  "language_info": {
   "codemirror_mode": {
    "name": "ipython",
    "version": 3
   },
   "file_extension": ".py",
   "mimetype": "text/x-python",
   "name": "python",
   "nbconvert_exporter": "python",
   "pygments_lexer": "ipython3",
   "version": "3.8.5"
  }
 },
 "nbformat": 4,
 "nbformat_minor": 4
}
